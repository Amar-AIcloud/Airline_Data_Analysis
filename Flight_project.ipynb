{
 "cells": [
  {
   "cell_type": "markdown",
   "id": "3e4017d5",
   "metadata": {},
   "source": [
    "# Airline Dataset Analysis using PySpark."
   ]
  },
  {
   "cell_type": "code",
   "execution_count": 1,
   "id": "29f085ac",
   "metadata": {},
   "outputs": [],
   "source": [
    "import findspark\n",
    "import pyspark\n",
    "from pyspark.sql import SparkSession\n",
    "from pyspark.sql.functions import col"
   ]
  },
  {
   "cell_type": "code",
   "execution_count": 2,
   "id": "8abdce2e",
   "metadata": {},
   "outputs": [],
   "source": [
    "spark = SparkSession.builder.appName('Flight_df').getOrCreate()"
   ]
  },
  {
   "cell_type": "code",
   "execution_count": 3,
   "id": "a418fbd2",
   "metadata": {},
   "outputs": [
    {
     "data": {
      "text/html": [
       "\n",
       "            <div>\n",
       "                <p><b>SparkSession - in-memory</b></p>\n",
       "                \n",
       "        <div>\n",
       "            <p><b>SparkContext</b></p>\n",
       "\n",
       "            <p><a href=\"http://LTIN357336.cts.com:4041\">Spark UI</a></p>\n",
       "\n",
       "            <dl>\n",
       "              <dt>Version</dt>\n",
       "                <dd><code>v3.2.1</code></dd>\n",
       "              <dt>Master</dt>\n",
       "                <dd><code>local[*]</code></dd>\n",
       "              <dt>AppName</dt>\n",
       "                <dd><code>Flight_df</code></dd>\n",
       "            </dl>\n",
       "        </div>\n",
       "        \n",
       "            </div>\n",
       "        "
      ],
      "text/plain": [
       "<pyspark.sql.session.SparkSession at 0x19e904c7fd0>"
      ]
     },
     "execution_count": 3,
     "metadata": {},
     "output_type": "execute_result"
    }
   ],
   "source": [
    "spark"
   ]
  },
  {
   "cell_type": "code",
   "execution_count": 4,
   "id": "b4344f72",
   "metadata": {},
   "outputs": [],
   "source": [
    "df= spark.read.csv(\"C:\\\\Users\\\\619007\\\\Documents\\\\flights.csv\",header=True,inferSchema=True)"
   ]
  },
  {
   "cell_type": "code",
   "execution_count": 5,
   "id": "d9e20974",
   "metadata": {},
   "outputs": [
    {
     "name": "stdout",
     "output_type": "stream",
     "text": [
      "+----+-----+---+-----------+-------+-------------+-----------+--------------+-------------------+-------------------+--------------+---------------+--------+----------+--------------+------------+--------+--------+---------+-------+-----------------+------------+-------------+--------+---------+-------------------+----------------+--------------+-------------+-------------------+-------------+\n",
      "|YEAR|MONTH|DAY|DAY_OF_WEEK|AIRLINE|FLIGHT_NUMBER|TAIL_NUMBER|ORIGIN_AIRPORT|DESTINATION_AIRPORT|SCHEDULED_DEPARTURE|DEPARTURE_TIME|DEPARTURE_DELAY|TAXI_OUT|WHEELS_OFF|SCHEDULED_TIME|ELAPSED_TIME|AIR_TIME|DISTANCE|WHEELS_ON|TAXI_IN|SCHEDULED_ARRIVAL|ARRIVAL_TIME|ARRIVAL_DELAY|DIVERTED|CANCELLED|CANCELLATION_REASON|AIR_SYSTEM_DELAY|SECURITY_DELAY|AIRLINE_DELAY|LATE_AIRCRAFT_DELAY|WEATHER_DELAY|\n",
      "+----+-----+---+-----------+-------+-------------+-----------+--------------+-------------------+-------------------+--------------+---------------+--------+----------+--------------+------------+--------+--------+---------+-------+-----------------+------------+-------------+--------+---------+-------------------+----------------+--------------+-------------+-------------------+-------------+\n",
      "|2015|    1|  1|          4|     AS|           98|     N407AS|           ANC|                SEA|                  5|          2354|            -11|      21|        15|           205|         194|     169|    1448|      404|      4|              430|         408|          -22|       0|        0|               null|            null|          null|         null|               null|         null|\n",
      "|2015|    1|  1|          4|     AA|         2336|     N3KUAA|           LAX|                PBI|                 10|             2|             -8|      12|        14|           280|         279|     263|    2330|      737|      4|              750|         741|           -9|       0|        0|               null|            null|          null|         null|               null|         null|\n",
      "+----+-----+---+-----------+-------+-------------+-----------+--------------+-------------------+-------------------+--------------+---------------+--------+----------+--------------+------------+--------+--------+---------+-------+-----------------+------------+-------------+--------+---------+-------------------+----------------+--------------+-------------+-------------------+-------------+\n",
      "only showing top 2 rows\n",
      "\n"
     ]
    }
   ],
   "source": [
    "df.show(2)"
   ]
  },
  {
   "cell_type": "code",
   "execution_count": 6,
   "id": "71be724f",
   "metadata": {},
   "outputs": [
    {
     "data": {
      "text/plain": [
       "DataFrame[summary: string, YEAR: string, MONTH: string, DAY: string, DAY_OF_WEEK: string, AIRLINE: string, FLIGHT_NUMBER: string, TAIL_NUMBER: string, ORIGIN_AIRPORT: string, DESTINATION_AIRPORT: string, SCHEDULED_DEPARTURE: string, DEPARTURE_TIME: string, DEPARTURE_DELAY: string, TAXI_OUT: string, WHEELS_OFF: string, SCHEDULED_TIME: string, ELAPSED_TIME: string, AIR_TIME: string, DISTANCE: string, WHEELS_ON: string, TAXI_IN: string, SCHEDULED_ARRIVAL: string, ARRIVAL_TIME: string, ARRIVAL_DELAY: string, DIVERTED: string, CANCELLED: string, CANCELLATION_REASON: string, AIR_SYSTEM_DELAY: string, SECURITY_DELAY: string, AIRLINE_DELAY: string, LATE_AIRCRAFT_DELAY: string, WEATHER_DELAY: string]"
      ]
     },
     "execution_count": 6,
     "metadata": {},
     "output_type": "execute_result"
    }
   ],
   "source": [
    "df.describe()"
   ]
  },
  {
   "cell_type": "code",
   "execution_count": 7,
   "id": "9cd1255a",
   "metadata": {},
   "outputs": [],
   "source": [
    "df1 = df[['AIRLINE','FLIGHT_NUMBER','ORIGIN_AIRPORT','DESTINATION_AIRPORT','SCHEDULED_DEPARTURE','DEPARTURE_TIME',\n",
    " 'DEPARTURE_DELAY','ARRIVAL_TIME']]"
   ]
  },
  {
   "cell_type": "code",
   "execution_count": 8,
   "id": "6a400b8f",
   "metadata": {},
   "outputs": [
    {
     "name": "stdout",
     "output_type": "stream",
     "text": [
      "+-------+-------------+--------------+-------------------+-------------------+--------------+---------------+------------+\n",
      "|AIRLINE|FLIGHT_NUMBER|ORIGIN_AIRPORT|DESTINATION_AIRPORT|SCHEDULED_DEPARTURE|DEPARTURE_TIME|DEPARTURE_DELAY|ARRIVAL_TIME|\n",
      "+-------+-------------+--------------+-------------------+-------------------+--------------+---------------+------------+\n",
      "|     AS|           98|           ANC|                SEA|                  5|          2354|            -11|         408|\n",
      "|     AA|         2336|           LAX|                PBI|                 10|             2|             -8|         741|\n",
      "|     US|          840|           SFO|                CLT|                 20|            18|             -2|         811|\n",
      "|     AA|          258|           LAX|                MIA|                 20|            15|             -5|         756|\n",
      "|     AS|          135|           SEA|                ANC|                 25|            24|             -1|         259|\n",
      "+-------+-------------+--------------+-------------------+-------------------+--------------+---------------+------------+\n",
      "only showing top 5 rows\n",
      "\n"
     ]
    }
   ],
   "source": [
    "df1.show(5)"
   ]
  },
  {
   "cell_type": "code",
   "execution_count": 9,
   "id": "7260b003",
   "metadata": {},
   "outputs": [],
   "source": [
    "df2 = df1[['ORIGIN_AIRPORT']] #'DESTINATION_AIRPORT'"
   ]
  },
  {
   "cell_type": "code",
   "execution_count": 10,
   "id": "3c676a07",
   "metadata": {},
   "outputs": [
    {
     "data": {
      "text/plain": [
       "315"
      ]
     },
     "execution_count": 10,
     "metadata": {},
     "output_type": "execute_result"
    }
   ],
   "source": [
    "df2.drop_duplicates().count()"
   ]
  },
  {
   "cell_type": "code",
   "execution_count": 11,
   "id": "e6fb99cb",
   "metadata": {},
   "outputs": [
    {
     "data": {
      "text/plain": [
       "315"
      ]
     },
     "execution_count": 11,
     "metadata": {},
     "output_type": "execute_result"
    }
   ],
   "source": [
    "#Number of Airports\n",
    "df2.distinct().count()"
   ]
  },
  {
   "cell_type": "code",
   "execution_count": 12,
   "id": "466198a9",
   "metadata": {},
   "outputs": [],
   "source": [
    "# Number of Trips\n",
    "\n",
    "df2 = df1.select(\"FLIGHT_NUMBER\") \\\n",
    "            .orderBy(\"FLIGHT_NUMBER\") \\\n",
    "            .groupby(\"FLIGHT_NUMBER\").count() \\\n",
    "            .limit(4)"
   ]
  },
  {
   "cell_type": "code",
   "execution_count": 13,
   "id": "774a5f2f",
   "metadata": {},
   "outputs": [
    {
     "name": "stdout",
     "output_type": "stream",
     "text": [
      "+-------------+-----+\n",
      "|FLIGHT_NUMBER|count|\n",
      "+-------------+-----+\n",
      "|         1088|  269|\n",
      "|          148|  349|\n",
      "|          463|  515|\n",
      "|          833|  595|\n",
      "+-------------+-----+\n",
      "\n"
     ]
    }
   ],
   "source": [
    "df2.show()\n"
   ]
  },
  {
   "cell_type": "code",
   "execution_count": 14,
   "id": "2d740fcb",
   "metadata": {},
   "outputs": [
    {
     "name": "stdout",
     "output_type": "stream",
     "text": [
      "+-------------+---------------+\n",
      "|Flight_Number|DEPARTURE_DELAY|\n",
      "+-------------+---------------+\n",
      "|         1322|           1988|\n",
      "|          224|           1604|\n",
      "|          270|           1589|\n",
      "|         1312|           1587|\n",
      "|         1594|           1557|\n",
      "+-------------+---------------+\n",
      "\n"
     ]
    }
   ],
   "source": [
    "#Determining the longest delay in this dataset----2\n",
    "#max of Departure Delay\n",
    "from pyspark.sql.functions import desc,expr,count\n",
    "from pyspark.sql import functions\n",
    "df3 = df1.select(\"Flight_Number\",\"DEPARTURE_DELAY\")\\\n",
    "            .where(\"DEPARTURE_DELAY is not null\")\\\n",
    "            .sort(desc(\"DEPARTURE_DELAY\"))\\\n",
    "            .limit(5).show()\n",
    "\n"
   ]
  },
  {
   "cell_type": "markdown",
   "id": "1bf2dbbf",
   "metadata": {},
   "source": [
    "#Determining the number of delayed vs. on-time / early flights\n",
    "\n"
   ]
  },
  {
   "cell_type": "code",
   "execution_count": 15,
   "id": "57e1b9f5",
   "metadata": {},
   "outputs": [],
   "source": [
    "df4 = df1.select(col(\"FLIGHT_NUMBER\"),\n",
    "                     col(\"ORIGIN_AIRPORT\").alias(\"Origin\"), \n",
    "                      col(\"DESTINATION_AIRPORT\").alias(\"Destination\"), \n",
    "                      expr(\"DEPARTURE_DELAY\"),\n",
    "                      expr(\"DEPARTURE_DELAY < 1 as OnTime_early\"),\n",
    "                      expr(\"DEPARTURE_DELAY > 1 as Delayed_flight\"),\n",
    "                      expr(\"ORIGIN_AIRPORT = DESTINATION_AIRPORT as domestic\"))"
   ]
  },
  {
   "cell_type": "code",
   "execution_count": 16,
   "id": "1c5f44ce",
   "metadata": {},
   "outputs": [
    {
     "name": "stdout",
     "output_type": "stream",
     "text": [
      "+-------------+------+-----------+---------------+------------+--------------+--------+\n",
      "|FLIGHT_NUMBER|Origin|Destination|DEPARTURE_DELAY|OnTime_early|Delayed_flight|domestic|\n",
      "+-------------+------+-----------+---------------+------------+--------------+--------+\n",
      "|           98|   ANC|        SEA|            -11|        true|         false|   false|\n",
      "|         2336|   LAX|        PBI|             -8|        true|         false|   false|\n",
      "|          840|   SFO|        CLT|             -2|        true|         false|   false|\n",
      "|          258|   LAX|        MIA|             -5|        true|         false|   false|\n",
      "+-------------+------+-----------+---------------+------------+--------------+--------+\n",
      "only showing top 4 rows\n",
      "\n"
     ]
    }
   ],
   "source": [
    "df4.show(4)"
   ]
  },
  {
   "cell_type": "code",
   "execution_count": 18,
   "id": "8f2e5efd",
   "metadata": {},
   "outputs": [
    {
     "name": "stdout",
     "output_type": "stream",
     "text": [
      "+-------------+---------------+\n",
      "|FLIGHT_NUMBER|DEPARTURE_DELAY|\n",
      "+-------------+---------------+\n",
      "|         2293|           1365|\n",
      "|          379|           1109|\n",
      "|          338|            683|\n",
      "|          338|            577|\n",
      "|          658|            569|\n",
      "+-------------+---------------+\n",
      "only showing top 5 rows\n",
      "\n"
     ]
    }
   ],
   "source": [
    "#4.Which flights departing SFO are most likely to have significant delays\n",
    "\n",
    "df5 = df1.select(\"FLIGHT_NUMBER\",\"DEPARTURE_DELAY\")\\\n",
    "            .where(\"Origin_Airport = 'SFO'\")\\\n",
    "                .sort(desc(\"DEPARTURE_DELAY\"))\\\n",
    "                .show(5)\n"
   ]
  },
  {
   "cell_type": "code",
   "execution_count": 19,
   "id": "8af1e800",
   "metadata": {},
   "outputs": [
    {
     "name": "stdout",
     "output_type": "stream",
     "text": [
      "+-------------------+-------------+\n",
      "|DESTINATION_AIRPORT|ARRIVAL_DELAY|\n",
      "+-------------------+-------------+\n",
      "|                DFW|         1971|\n",
      "|                MIA|         1627|\n",
      "|                LAX|         1593|\n",
      "|                LAX|         1576|\n",
      "|                DFW|         1554|\n",
      "+-------------------+-------------+\n",
      "only showing top 5 rows\n",
      "\n"
     ]
    }
   ],
   "source": [
    "#5.Which destinations tend to have delays\n",
    "\n",
    "df6 = df.select(\"DESTINATION_AIRPORT\",\"ARRIVAL_DELAY\")\\\n",
    "        .where(\"ARRIVAL_DELAY > 0\")\\\n",
    "        .sort(desc(\"Arrival_Delay\"))\\\n",
    "        .show(5)"
   ]
  },
  {
   "cell_type": "markdown",
   "id": "2a937090",
   "metadata": {},
   "source": [
    "##Which destinations tend to have significant delays departing from SEA"
   ]
  },
  {
   "cell_type": "code",
   "execution_count": 20,
   "id": "4f2b0a00",
   "metadata": {},
   "outputs": [
    {
     "name": "stdout",
     "output_type": "stream",
     "text": [
      "+-------------------+-------------+\n",
      "|DESTINATION_AIRPORT|ARRIVAL_DELAY|\n",
      "+-------------------+-------------+\n",
      "|                MSP|          805|\n",
      "|                CLT|          621|\n",
      "|                PHX|          516|\n",
      "|                CLT|          481|\n",
      "|                DEN|          474|\n",
      "+-------------------+-------------+\n",
      "only showing top 5 rows\n",
      "\n"
     ]
    }
   ],
   "source": [
    "\n",
    "\n",
    "df7 = df.select(\"DESTINATION_AIRPORT\",\"ARRIVAL_DELAY\")\\\n",
    "        .where(\"Origin_AIRPORT = 'SEA'\")\\\n",
    "        .orderBy(desc(\"Arrival_Delay\"))\\\n",
    "        .show(5)"
   ]
  },
  {
   "cell_type": "markdown",
   "id": "22bffd5c",
   "metadata": {},
   "source": [
    "##Airport Ranking using Rank"
   ]
  },
  {
   "cell_type": "code",
   "execution_count": 35,
   "id": "77b722aa",
   "metadata": {},
   "outputs": [],
   "source": [
    "#Airport Ranking using Rank - Count the Origin_airport and rank accordingly\n",
    "\n",
    "df8 = df.select(\"ORIGIN_AIRPORT\")\\\n",
    "         .groupby(\"ORIGIN_AIRPORT\").count().alias('count')\\\n",
    "         .orderBy(desc(\"count\"))\\\n",
    "         .limit(5)\n",
    "\n",
    "\n"
   ]
  },
  {
   "cell_type": "code",
   "execution_count": 38,
   "id": "f100c613",
   "metadata": {},
   "outputs": [
    {
     "name": "stdout",
     "output_type": "stream",
     "text": [
      "+--------------+-----+\n",
      "|ORIGIN_AIRPORT|count|\n",
      "+--------------+-----+\n",
      "|           ATL|66599|\n",
      "|           ORD|52961|\n",
      "|           DFW|50933|\n",
      "|           LAX|38473|\n",
      "|           DEN|38254|\n",
      "+--------------+-----+\n",
      "\n"
     ]
    }
   ],
   "source": [
    "df8.show()"
   ]
  },
  {
   "cell_type": "code",
   "execution_count": 48,
   "id": "25c81a3a",
   "metadata": {},
   "outputs": [],
   "source": [
    "from pyspark.sql import Window\n",
    "from pyspark.sql.functions import rank\n",
    "\n",
    "df9 = df8.withColumn(\"rank\",rank().over(Window.orderBy(desc(\"count\"))))"
   ]
  },
  {
   "cell_type": "code",
   "execution_count": 49,
   "id": "20b2d249",
   "metadata": {},
   "outputs": [
    {
     "name": "stdout",
     "output_type": "stream",
     "text": [
      "+--------------+-----+----+\n",
      "|ORIGIN_AIRPORT|count|rank|\n",
      "+--------------+-----+----+\n",
      "|           ATL|66599|   1|\n",
      "|           ORD|52961|   2|\n",
      "|           DFW|50933|   3|\n",
      "|           LAX|38473|   4|\n",
      "|           DEN|38254|   5|\n",
      "+--------------+-----+----+\n",
      "\n"
     ]
    }
   ],
   "source": [
    "df9.show(5)\n"
   ]
  },
  {
   "cell_type": "code",
   "execution_count": 30,
   "id": "d7254e75",
   "metadata": {},
   "outputs": [
    {
     "name": "stdout",
     "output_type": "stream",
     "text": [
      "+--------------+-----+\n",
      "|ORIGIN_AIRPORT|count|\n",
      "+--------------+-----+\n",
      "|           ATL| 3000|\n",
      "|           ORD| 3000|\n",
      "|           DFW| 3000|\n",
      "|           LAX| 3000|\n",
      "|           DEN| 3000|\n",
      "+--------------+-----+\n",
      "\n"
     ]
    }
   ],
   "source": [
    "from pyspark.sql.functions import lit\n",
    "df9 = df8.withColumn(\"count\",lit(3000))\n",
    "df9.show(5)"
   ]
  },
  {
   "cell_type": "code",
   "execution_count": null,
   "id": "339a3fe9",
   "metadata": {},
   "outputs": [],
   "source": []
  },
  {
   "cell_type": "code",
   "execution_count": null,
   "id": "07e6c91a",
   "metadata": {},
   "outputs": [],
   "source": []
  },
  {
   "cell_type": "code",
   "execution_count": null,
   "id": "1273f7ac",
   "metadata": {},
   "outputs": [],
   "source": []
  }
 ],
 "metadata": {
  "kernelspec": {
   "display_name": "Python 3 (ipykernel)",
   "language": "python",
   "name": "python3"
  },
  "language_info": {
   "codemirror_mode": {
    "name": "ipython",
    "version": 3
   },
   "file_extension": ".py",
   "mimetype": "text/x-python",
   "name": "python",
   "nbconvert_exporter": "python",
   "pygments_lexer": "ipython3",
   "version": "3.9.7"
  }
 },
 "nbformat": 4,
 "nbformat_minor": 5
}
